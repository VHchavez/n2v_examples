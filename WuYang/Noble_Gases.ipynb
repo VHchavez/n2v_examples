{
 "cells": [
  {
   "cell_type": "markdown",
   "metadata": {},
   "source": [
    "## Please check the original paper of the Wu-Yang method: [Qin Wu, Weitao Yang, J. Chem. Phys. 118, 2498 (2003)]."
   ]
  },
  {
   "cell_type": "code",
   "execution_count": 1,
   "metadata": {
    "scrolled": true
   },
   "outputs": [],
   "source": [
    "import psi4\n",
    "import matplotlib.pyplot as plt\n",
    "import numpy as np\n",
    "\n",
    "psi4.set_options({\"save_jk\" : True})\n",
    "psi4.set_memory(int(2.50e9))\n",
    "psi4.core.clean()\n",
    "\n",
    "import n2v"
   ]
  },
  {
   "cell_type": "markdown",
   "metadata": {},
   "source": [
    "---\n",
    "### Perform target calculation with Psi4. \n",
    "Store wavefunction (wfn) object"
   ]
  },
  {
   "cell_type": "code",
   "execution_count": 2,
   "metadata": {},
   "outputs": [],
   "source": [
    "Be = psi4.geometry( \n",
    "\"\"\" \n",
    "0 1\n",
    "Be\n",
    "noreorient\n",
    "nocom\n",
    "units bohr\n",
    "symmetry c1\n",
    "\"\"\" )\n",
    "\n",
    "psi4.set_options({\"reference\" : \"rhf\"})  # Spin-Restricted\n",
    "\n",
    "# IMPORTANT NOTE: psi4.energy does not update cc densities. So we calculate dipole momentes instead.\n",
    "wfn = psi4.properties(\"ccsd/aug-cc-pvtz\",  return_wfn=True, molecule=Be, property=['dipole'])[1]"
   ]
  },
  {
   "cell_type": "markdown",
   "metadata": {},
   "source": [
    "---\n",
    "### Invert! \n",
    "$$v_{Kohn-Sham}=v_{ext}+v_{guide}+v_{rest}$$\n",
    "With the guide potential $v_{guide}=v_{Fermi-Amaldi}$ and the rest potential $v_{rest}$ on the potential basis set (pbs) \"aug-cc-pvqz\"."
   ]
  },
  {
   "cell_type": "code",
   "execution_count": 3,
   "metadata": {},
   "outputs": [
    {
     "name": "stdout",
     "output_type": "stream",
     "text": [
      "0.32619780241731483\n",
      "0.021088343310376838\n",
      "0.005611325369757217\n",
      "0.00010268008161655848\n",
      "1.7174680189503858e-05\n",
      "1.2298972307108016e-05\n",
      "2.57140512503073e-05\n",
      "7.077316780439876e-05\n",
      "4.137781349627783e-06\n",
      "Optimization Successful within 8 iterations! |grad|=4.14e-06\n",
      "WARNING: XC Energy is not yet properly calculated\n"
     ]
    }
   ],
   "source": [
    "# Build inverter and set target\n",
    "ibe = n2v.Inverter(wfn, pbs=\"aug-cc-pvqz\")\n",
    "\n",
    "# Inverter with WuYang method, guide potention v0=Fermi-Amaldi\n",
    "ibe.invert(\"WuYang\", guide_potential_components=[\"fermi_amaldi\"])"
   ]
  },
  {
   "cell_type": "markdown",
   "metadata": {},
   "source": [
    "---\n",
    "### Visualization\n",
    "#### Visualization of the potentials. \n",
    "\n",
    "#### Since this is a 1-D system, let's first plot it alone x axis."
   ]
  },
  {
   "cell_type": "markdown",
   "metadata": {},
   "source": [
    "Building grids"
   ]
  },
  {
   "cell_type": "code",
   "execution_count": 4,
   "metadata": {},
   "outputs": [
    {
     "data": {
      "text/plain": [
       "(3, 101)"
      ]
     },
     "execution_count": 4,
     "metadata": {},
     "output_type": "execute_result"
    }
   ],
   "source": [
    "x = np.linspace(-5,5,101)\n",
    "y = np.zeros_like(x)\n",
    "z = np.zeros_like(x)\n",
    "grids = np.array([x,y,z])\n",
    "grids.shape"
   ]
  },
  {
   "cell_type": "markdown",
   "metadata": {},
   "source": [
    "Or the grids can be generate alternatively by np.meshgrid and flatten."
   ]
  },
  {
   "cell_type": "code",
   "execution_count": 5,
   "metadata": {},
   "outputs": [
    {
     "data": {
      "text/plain": [
       "True"
      ]
     },
     "execution_count": 5,
     "metadata": {},
     "output_type": "execute_result"
    }
   ],
   "source": [
    "grids_temp, _ = ibe.generate_grids(x=x, y=[0], z=[0])\n",
    "np.allclose(grids_temp, grids)"
   ]
  },
  {
   "cell_type": "markdown",
   "metadata": {},
   "source": [
    "Get Hartree and Fermi-Amaldi potentials"
   ]
  },
  {
   "cell_type": "code",
   "execution_count": 6,
   "metadata": {},
   "outputs": [],
   "source": [
    "vH, vFA = ibe.on_grid_esp(grids=grids)[1:3]\n",
    "assert np.allclose(vFA, vH * (1-1/(ibe.nalpha+ibe.nbeta)))"
   ]
  },
  {
   "cell_type": "markdown",
   "metadata": {},
   "source": [
    "Get exchange-correlation potentials.\n",
    "\\begin{align}\n",
    "v_{xc}\n",
    "&=v_{Kohn-Sham}-v_{Hartree}-v_{ext}\\\\\n",
    "&=v_{guide}+v_{rest}-v_{Hartree}\n",
    "\\end{align}"
   ]
  },
  {
   "cell_type": "code",
   "execution_count": 7,
   "metadata": {},
   "outputs": [],
   "source": [
    "vrest = ibe.on_grid_ao(ibe.v_opt, grids=grids, basis=ibe.pbs)  # Note that specify the basis set \n",
    "                                                               # that vrest is on."
   ]
  },
  {
   "cell_type": "code",
   "execution_count": 8,
   "metadata": {},
   "outputs": [],
   "source": [
    "vxc = vFA + vrest - vH"
   ]
  },
  {
   "cell_type": "code",
   "execution_count": 9,
   "metadata": {
    "scrolled": true
   },
   "outputs": [
    {
     "data": {
      "text/plain": [
       "<matplotlib.legend.Legend at 0x7f9607eb4ad0>"
      ]
     },
     "execution_count": 9,
     "metadata": {},
     "output_type": "execute_result"
    },
    {
     "data": {
      "image/png": "[encoded data removed]",
      "text/plain": [
       "<Figure size 432x288 with 1 Axes>"
      ]
     },
     "metadata": {
      "needs_background": "light"
     },
     "output_type": "display_data"
    }
   ],
   "source": [
    "plt.plot(x, vxc, label=\"vxc\")\n",
    "plt.plot(x, vH, label=\"vH\")\n",
    "plt.legend()"
   ]
  },
  {
   "cell_type": "markdown",
   "metadata": {},
   "source": [
    "#### Let's plot it on xy plane."
   ]
  },
  {
   "cell_type": "code",
   "execution_count": 10,
   "metadata": {},
   "outputs": [
    {
     "data": {
      "text/plain": [
       "(3, 8181)"
      ]
     },
     "execution_count": 10,
     "metadata": {},
     "output_type": "execute_result"
    }
   ],
   "source": [
    "x = np.linspace(-5,5,101)\n",
    "y = np.linspace(-4,4,81)\n",
    "z = [0]\n",
    "grids, shape = ibe.generate_grids(x=x, y=y, z=z)  # shape is saved for futrue use as reshape the grid back to 2D.\n",
    "grids.shape"
   ]
  },
  {
   "cell_type": "code",
   "execution_count": null,
   "metadata": {},
   "outputs": [],
   "source": [
    "vext, vH, vFA = ibe.on_grid_esp(grids=grids)[:3]\n",
    "vrest = ibe.on_grid_ao(ibe.v_opt, grids=grids, basis=ibe.pbs)\n",
    "vxc = vFA + vrest - vH"
   ]
  },
  {
   "cell_type": "markdown",
   "metadata": {},
   "source": [
    "Reshape things back."
   ]
  },
  {
   "cell_type": "code",
   "execution_count": null,
   "metadata": {},
   "outputs": [],
   "source": [
    "vxc = vxc.reshape(shape)\n",
    "vH = vH.reshape(shape)\n",
    "vext = vext.reshape(shape)\n",
    "print(vxc.shape, vH.shape, vext.shape)"
   ]
  },
  {
   "cell_type": "code",
   "execution_count": null,
   "metadata": {
    "scrolled": true
   },
   "outputs": [],
   "source": [
    "plt.imshow(vxc[:,:,0], interpolation=\"bicubic\")"
   ]
  },
  {
   "cell_type": "code",
   "execution_count": null,
   "metadata": {},
   "outputs": [],
   "source": [
    "plt.imshow(vH[:,:,0], interpolation=\"bicubic\")"
   ]
  },
  {
   "cell_type": "code",
   "execution_count": null,
   "metadata": {},
   "outputs": [],
   "source": [
    "plt.imshow(vext[:,:,0], interpolation=\"bicubic\")"
   ]
  }
 ],
 "metadata": {
  "kernelspec": {
   "display_name": "psi4",
   "language": "python",
   "name": "py3psi4"
  },
  "language_info": {
   "codemirror_mode": {
    "name": "ipython",
    "version": 3
   },
   "file_extension": ".py",
   "mimetype": "text/x-python",
   "name": "python",
   "nbconvert_exporter": "python",
   "pygments_lexer": "ipython3",
   "version": "3.7.8"
  }
 },
 "nbformat": 4,
 "nbformat_minor": 4
}
