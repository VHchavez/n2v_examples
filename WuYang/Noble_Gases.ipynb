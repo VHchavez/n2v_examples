{
 "cells": [
  {
   "cell_type": "code",
   "execution_count": 1,
   "metadata": {},
   "outputs": [],
   "source": [
    "import psi4\n",
    "import matplotlib.pyplot as plt\n",
    "import numpy as np\n",
    "\n",
    "psi4.set_options({\"save_jk\" : True})\n",
    "psi4.set_memory(int(2.50e9))\n",
    "psi4.core.clean()\n",
    "\n",
    "import n2v"
   ]
  },
  {
   "cell_type": "markdown",
   "metadata": {},
   "source": [
    "---\n",
    "### Perform target calculation with Psi4. \n",
    "#### Store wavefunction (wfn) object"
   ]
  },
  {
   "cell_type": "code",
   "execution_count": 22,
   "metadata": {},
   "outputs": [],
   "source": [
    "Be = psi4.geometry( \n",
    "\"\"\" \n",
    "0 1\n",
    "Be\n",
    "noreorient\n",
    "nocom\n",
    "units bohr\n",
    "symmetry c1\n",
    "\"\"\" )\n",
    "\n",
    "psi4.set_options({\"reference\" : \"rhf\"})\n",
    "e, wfn = psi4.energy(\"ccsd/aug-cc-pvtz\", return_wfn=True, molecule=Be)\n",
    "\n"
   ]
  },
  {
   "cell_type": "markdown",
   "metadata": {},
   "source": [
    "---\n",
    "#### Feed wfn object to Inverter class. \n",
    "##### Invert!"
   ]
  },
  {
   "cell_type": "code",
   "execution_count": 23,
   "metadata": {},
   "outputs": [
    {
     "name": "stdout",
     "output_type": "stream",
     "text": [
      "Optimization Successful\n",
      "WARNING: XC Energy is not yet properly calculated\n"
     ]
    }
   ],
   "source": [
    "ibe = n2v.Inverter(wfn)\n",
    "ibe.invert(potential_components=[\"fermi_amaldi\"])"
   ]
  },
  {
   "cell_type": "markdown",
   "metadata": {},
   "source": [
    "---\n",
    "To visualize the generated potential. A rectangular grid must be built. "
   ]
  },
  {
   "cell_type": "code",
   "execution_count": 24,
   "metadata": {},
   "outputs": [
    {
     "name": "stderr",
     "output_type": "stream",
     "text": [
      "/mnt/c/Users/victo/Dropbox/PHD/n2v/n2v/grider.py:105: UserWarning: Only LDA fucntionals are supported on the grid\n",
      "  warnings.warn(\"Only LDA fucntionals are supported on the grid\")\n"
     ]
    }
   ],
   "source": [
    "ibe.build_rectangular_grid(L = [0.1, 0.1, 5], \n",
    "                                D = [0.1, 0.1, 0.1], one_dim=True, return_hartree=True)"
   ]
  },
  {
   "cell_type": "markdown",
   "metadata": {},
   "source": [
    "Extract the desired quantities from the grid attribute. "
   ]
  },
  {
   "cell_type": "code",
   "execution_count": 30,
   "metadata": {},
   "outputs": [
    {
     "data": {
      "text/plain": [
       "<matplotlib.legend.Legend at 0x7fc1783626d0>"
      ]
     },
     "execution_count": 30,
     "metadata": {},
     "output_type": "execute_result"
    },
    {
     "data": {
      "image/png": "[encoded data removed]",
      "text/plain": [
       "<Figure size 432x288 with 1 Axes>"
      ]
     },
     "metadata": {
      "needs_background": "light"
     },
     "output_type": "display_data"
    }
   ],
   "source": [
    "v_inv = (ibe.grid.z_vopt + ibe.grid.z_vfa)\n",
    "\n",
    "plt.plot(ibe.grid.z, ibe.grid.z_hartree,          label=\"Hartree Potential\")\n",
    "plt.plot(ibe.grid.z, -v_inv,                       label=\"VXC Potential\")\n",
    "\n",
    "plt.xlim((0,4))\n",
    "\n",
    "plt.legend()"
   ]
  }
 ],
 "metadata": {
  "kernelspec": {
   "display_name": "Python 3",
   "language": "python",
   "name": "python3"
  },
  "language_info": {
   "codemirror_mode": {
    "name": "ipython",
    "version": 3
   },
   "file_extension": ".py",
   "mimetype": "text/x-python",
   "name": "python",
   "nbconvert_exporter": "python",
   "pygments_lexer": "ipython3",
   "version": "3.8.6"
  }
 },
 "nbformat": 4,
 "nbformat_minor": 4
}
