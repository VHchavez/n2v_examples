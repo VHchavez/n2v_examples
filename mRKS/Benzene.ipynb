{
 "cells": [
  {
   "cell_type": "code",
   "execution_count": 1,
   "metadata": {},
   "outputs": [],
   "source": [
    "import psi4\n",
    "import matplotlib.pyplot as plt\n",
    "import numpy as np\n",
    "\n",
    "psi4.set_memory(int(4e9))\n",
    "psi4.set_num_threads(6)\n",
    "psi4.core.clean()\n",
    "\n",
    "import n2v"
   ]
  },
  {
   "cell_type": "code",
   "execution_count": 4,
   "metadata": {},
   "outputs": [],
   "source": [
    "Full_Molec = psi4.geometry(\"\"\"\n",
    "nocom\n",
    "noreorient\n",
    "C \n",
    "\n",
    "H 1 1.082 \n",
    "\n",
    "C 1 1.387 2 120.0 \n",
    "\n",
    "H 3 1.082 1 120.0 2 0.0 \n",
    "\n",
    "C 3 1.387 1 120.0 4 180.0 \n",
    "\n",
    "H 5 1.082 3 120.0 4 0.0 \n",
    "\n",
    "C 5 1.387 3 120.0 6 180.0 \n",
    "\n",
    "H 7 1.082 5 120.0 6 0.0 \n",
    "\n",
    "C 7 1.387 5 120.0 8 180.0 \n",
    "\n",
    "H 9 1.082 7 120.0 8 0.0 \n",
    "\n",
    "C 9 1.387 7 120.0 10 180.0 \n",
    "\n",
    "H 11 1.082 9 120.0 10 0.0 \n",
    "units bohr\n",
    "symmetry c1\n",
    "\"\"\")"
   ]
  },
  {
   "cell_type": "code",
   "execution_count": null,
   "metadata": {},
   "outputs": [],
   "source": [
    "psi4.set_options({\"reference\" : \"rhf\",\n",
    "                  \"opdm\": True,\n",
    "                  \"tpdm\": True,\n",
    "                  'DFT_SPHERICAL_POINTS': 350,  # Usually specify the DFT spherical grid is highly recommended.\n",
    "                  'DFT_RADIAL_POINTS': 35,  # See [https://psicode.org/psi4manual/master/dft.html] for options.\n",
    "                  \"SAVE_JK\": True\n",
    "                 })  # Spin-Restricted\n",
    "\n",
    "# IMPORTANT NOTE: ONLY psi4.CIWavefunction or RHF is supported.\n",
    "wfn = psi4.properties(\"detci/cc-pcvdz\", return_wfn=True, molecule=Full_Molec, properties=[\"dipole\"])[1]\n",
    "\n",
    "inverter = n2v.Inverter(wfn)"
   ]
  },
  {
   "cell_type": "code",
   "execution_count": 39,
   "metadata": {},
   "outputs": [
    {
     "data": {
      "text/plain": [
       "(3, 2001)"
      ]
     },
     "execution_count": 39,
     "metadata": {},
     "output_type": "execute_result"
    }
   ],
   "source": [
    "x = np.linspace(-10,10,2001)\n",
    "y = [0]\n",
    "z = [0]\n",
    "grid, shape = inverter.generate_grids(x,y,z)\n",
    "grid.shape"
   ]
  },
  {
   "cell_type": "code",
   "execution_count": 50,
   "metadata": {},
   "outputs": [
    {
     "name": "stdout",
     "output_type": "stream",
     "text": [
      "The guide potential is changed to v_hartree.\n",
      "Memory taken by ERI integral matrix and 2pdm is about: 1.033 GB.\n",
      "Iter: 1, Density Change: 5.47e-04, Eigenvalue Change: 5.60e+00, Potential Change: 8.25e-02.\n",
      "Iter: 2, Density Change: 2.84e-05, Eigenvalue Change: 2.83e-02, Potential Change: 1.97e-03.\n",
      "Iter: 3, Density Change: 3.42e-06, Eigenvalue Change: 4.16e-03, Potential Change: 1.83e-03.\n",
      "Iter: 4, Density Change: 2.41e-06, Eigenvalue Change: 4.11e-03, Potential Change: 1.79e-03.\n",
      "Iter: 5, Density Change: 2.21e-06, Eigenvalue Change: 4.07e-03, Potential Change: 1.78e-03.\n",
      "Iter: 6, Density Change: 2.18e-06, Eigenvalue Change: 4.03e-03, Potential Change: 1.78e-03.\n",
      "Iter: 7, Density Change: 2.15e-06, Eigenvalue Change: 3.99e-03, Potential Change: 1.78e-03.\n",
      "Iter: 8, Density Change: 2.10e-06, Eigenvalue Change: 3.96e-03, Potential Change: 1.78e-03.\n",
      "Iter: 9, Density Change: 2.04e-06, Eigenvalue Change: 3.93e-03, Potential Change: 1.78e-03.\n",
      "Iter: 10, Density Change: 1.99e-06, Eigenvalue Change: 3.90e-03, Potential Change: 1.78e-03.\n",
      "Iter: 11, Density Change: 1.93e-06, Eigenvalue Change: 3.88e-03, Potential Change: 1.77e-03.\n",
      "Iter: 12, Density Change: 1.88e-06, Eigenvalue Change: 3.85e-03, Potential Change: 1.77e-03.\n",
      "Iter: 13, Density Change: 1.84e-06, Eigenvalue Change: 3.83e-03, Potential Change: 1.75e-03.\n",
      "Iter: 14, Density Change: 1.79e-06, Eigenvalue Change: 3.80e-03, Potential Change: 1.73e-03.\n",
      "Iter: 15, Density Change: 1.76e-06, Eigenvalue Change: 3.73e-03, Potential Change: 1.71e-03.\n",
      "Iter: 16, Density Change: 1.73e-06, Eigenvalue Change: 3.67e-03, Potential Change: 1.69e-03.\n",
      "Iter: 17, Density Change: 1.70e-06, Eigenvalue Change: 3.62e-03, Potential Change: 1.67e-03.\n",
      "Iter: 18, Density Change: 1.67e-06, Eigenvalue Change: 3.58e-03, Potential Change: 1.66e-03.\n",
      "Iter: 19, Density Change: 1.65e-06, Eigenvalue Change: 3.54e-03, Potential Change: 1.65e-03.\n",
      "Iter: 20, Density Change: 1.63e-06, Eigenvalue Change: 3.51e-03, Potential Change: 1.64e-03.\n",
      "Iter: 21, Density Change: 1.61e-06, Eigenvalue Change: 3.49e-03, Potential Change: 1.63e-03.\n",
      "Iter: 22, Density Change: 1.59e-06, Eigenvalue Change: 3.47e-03, Potential Change: 1.62e-03.\n",
      "Iter: 23, Density Change: 1.58e-06, Eigenvalue Change: 3.44e-03, Potential Change: 1.61e-03.\n",
      "Iter: 24, Density Change: 1.57e-06, Eigenvalue Change: 3.43e-03, Potential Change: 1.60e-03.\n",
      "Iter: 25, Density Change: 1.55e-06, Eigenvalue Change: 3.41e-03, Potential Change: 1.60e-03.\n",
      "Iter: 26, Density Change: 1.54e-06, Eigenvalue Change: 3.39e-03, Potential Change: 1.59e-03.\n",
      "Iter: 27, Density Change: 1.53e-06, Eigenvalue Change: 3.38e-03, Potential Change: 1.58e-03.\n",
      "Iter: 28, Density Change: 1.52e-06, Eigenvalue Change: 3.37e-03, Potential Change: 1.58e-03.\n",
      "Iter: 29, Density Change: 1.51e-06, Eigenvalue Change: 3.35e-03, Potential Change: 1.57e-03.\n",
      "Iter: 30, Density Change: 1.50e-06, Eigenvalue Change: 3.34e-03, Potential Change: 1.56e-03.\n"
     ]
    }
   ],
   "source": [
    "inverter.invert(\"mRKS\", opt_max_iter=30, frac_old=0.8, sing=(1e-9, 1e-7, 1e-9, 1e-7))"
   ]
  }
 ],
 "metadata": {
  "kernelspec": {
   "display_name": "psi4",
   "language": "python",
   "name": "py3psi4"
  },
  "language_info": {
   "codemirror_mode": {
    "name": "ipython",
    "version": 3
   },
   "file_extension": ".py",
   "mimetype": "text/x-python",
   "name": "python",
   "nbconvert_exporter": "python",
   "pygments_lexer": "ipython3",
   "version": "3.7.8"
  }
 },
 "nbformat": 4,
 "nbformat_minor": 2
}
